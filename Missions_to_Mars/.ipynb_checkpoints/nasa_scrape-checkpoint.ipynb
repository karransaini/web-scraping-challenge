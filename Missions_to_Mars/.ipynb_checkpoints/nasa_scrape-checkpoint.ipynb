{
 "cells": [
  {
   "cell_type": "code",
   "execution_count": 17,
   "metadata": {
    "ExecuteTime": {
     "end_time": "2020-04-19T05:59:41.774135Z",
     "start_time": "2020-04-19T05:59:41.769175Z"
    }
   },
   "outputs": [],
   "source": [
    "from selenium import webdriver\n",
    "from selenium.webdriver.common.keys import Keys\n",
    "from selenium.webdriver.common.by import By\n",
    "from selenium.webdriver.support.ui import WebDriverWait\n",
    "from selenium.webdriver.support import expected_conditions as EC\n",
    "from selenium.webdriver.common.action_chains import ActionChains\n",
    "\n",
    "import time\n",
    "import pymongo"
   ]
  },
  {
   "cell_type": "code",
   "execution_count": 46,
   "metadata": {
    "ExecuteTime": {
     "end_time": "2020-04-19T07:10:35.033023Z",
     "start_time": "2020-04-19T07:10:35.023330Z"
    }
   },
   "outputs": [],
   "source": [
    "def scrape_nasa_news(url,extra_posts=False):\n",
    "    '''Use this function to scrape the article titles and descriptions from \n",
    "    the nasa mars homepage and save them to mongo. \n",
    "    '''\n",
    "    # initialize mongo \n",
    "    conn = 'mongodb://localhost:27017'\n",
    "    client = pymongo.MongoClient(conn)\n",
    "\n",
    "    # initializing mongo db and collection \n",
    "    nasa_db = client.nasa_db\n",
    "    nasa_collection = nasa_db.articles\n",
    "\n",
    "    # declaring element names to grab\n",
    "    article_header = 'slide'\n",
    "    content_title = 'content_title'\n",
    "    content_body = 'article_teaser_body'\n",
    "    wait_element = 'news'\n",
    "    \n",
    "    # intializing webdriver\n",
    "    driver = webdriver.Chrome('/Users/daniel/projects/nasa/chromedriver')\n",
    "    # get url and wait until page is fully loaded before proceeding\n",
    "    driver.get(url)\n",
    "    try:\n",
    "        element = WebDriverWait(driver, 10).until(\n",
    "            EC.presence_of_element_located((By.ID,wait_element))\n",
    "        )\n",
    "        # Prompt user for amount of posts to be returned\n",
    "        if extra_posts:\n",
    "            while True:\n",
    "                print('By default the site returns an 40 posts')\n",
    "                print(f'How many extra posts i.e. 1 = 40, 2 = 80,3 = 120')\n",
    "                posts = int(input())\n",
    "                if posts > 0:\n",
    "                    break\n",
    "            # Grab a the more button element from the html\n",
    "            more_button = driver.find_element_by_xpath('/html/body/div[3]/div/div[3]/div[3]/div/article/div/section/div/footer/a')\n",
    "            # click the more button to retrieve more posts\n",
    "            for post in range(posts):\n",
    "                more_button.click()\n",
    "                time.sleep(1)\n",
    "            \n",
    "        # Return a list of divs that hold the articles\n",
    "        articles = driver.find_elements_by_class_name(article_header)\n",
    "        # Iterate though and parse the articles to grab the titles and content\n",
    "        for article in articles:\n",
    "        # If element exists pass to a variable and create an object\n",
    "            try:\n",
    "                title = article.find_element_by_class_name(content_title).text\n",
    "                body = article.find_element_by_class_name(content_body).text\n",
    "                # post object with post title and body\n",
    "                post = {\n",
    "                    'title':title,\n",
    "                    'body': body\n",
    "                }\n",
    "                #insert the post object into mongo\n",
    "                nasa_collection.insert_one(post)\n",
    "                print(post)\n",
    "            except:\n",
    "                continue\n",
    "    except Exception as e:\n",
    "        print(e)\n",
    "    finally:\n",
    "        driver.quit()\n",
    "\n",
    "url = 'https://mars.nasa.gov/news/?page=0&per_page=40&order=publish_date+desc%2Ccreated_at+desc&search=&category=19%2C165%2C184%2C204&blank_scope=Latest'\n",
    "scrape_nasa_news(url,extra_posts=True)"
   ]
  },
  {
   "cell_type": "code",
   "execution_count": 1,
   "metadata": {
    "ExecuteTime": {
     "end_time": "2020-04-19T17:31:54.397008Z",
     "start_time": "2020-04-19T17:31:54.393999Z"
    }
   },
   "outputs": [],
   "source": [
    "# url = 'https://mars.nasa.gov/news/?page=0&per_page=40&order=publish_date+desc%2Ccreated_at+desc&search=&category=19%2C165%2C184%2C204&blank_scope=Latest'\n",
    "# scrape_nasa_news(url,extra_posts=True)\n"
   ]
  },
  {
   "cell_type": "code",
   "execution_count": 8,
   "metadata": {
    "ExecuteTime": {
     "end_time": "2020-04-19T03:54:58.811331Z",
     "start_time": "2020-04-19T03:54:58.806401Z"
    }
   },
   "outputs": [],
   "source": [
    "# def grab_more_posts(driver):\n",
    "#     time.sleep(3)\n",
    "#     more_button = driver.find_element_by_xpath('/html/body/div[3]/div/div[3]/div[3]/div/article/div/section/div/footer/a')\n",
    "#     more_button.click()\n",
    "    \n",
    "    "
   ]
  },
  {
   "cell_type": "code",
   "execution_count": 9,
   "metadata": {
    "ExecuteTime": {
     "end_time": "2020-04-19T03:55:08.128743Z",
     "start_time": "2020-04-19T03:54:58.815159Z"
    }
   },
   "outputs": [],
   "source": [
    "for i in range(3):\n",
    "    grab_more_posts(driver)\n",
    "    "
   ]
  },
  {
   "cell_type": "code",
   "execution_count": null,
   "metadata": {},
   "outputs": [],
   "source": []
  }
 ],
 "metadata": {
  "kernelspec": {
   "display_name": "Python 3",
   "language": "python",
   "name": "python3"
  },
  "language_info": {
   "codemirror_mode": {
    "name": "ipython",
    "version": 3
   },
   "file_extension": ".py",
   "mimetype": "text/x-python",
   "name": "python",
   "nbconvert_exporter": "python",
   "pygments_lexer": "ipython3",
   "version": "3.7.4"
  },
  "toc": {
   "base_numbering": 1,
   "nav_menu": {},
   "number_sections": true,
   "sideBar": true,
   "skip_h1_title": false,
   "title_cell": "Table of Contents",
   "title_sidebar": "Contents",
   "toc_cell": false,
   "toc_position": {},
   "toc_section_display": true,
   "toc_window_display": false
  },
  "varInspector": {
   "cols": {
    "lenName": 16,
    "lenType": 16,
    "lenVar": 40
   },
   "kernels_config": {
    "python": {
     "delete_cmd_postfix": "",
     "delete_cmd_prefix": "del ",
     "library": "var_list.py",
     "varRefreshCmd": "print(var_dic_list())"
    },
    "r": {
     "delete_cmd_postfix": ") ",
     "delete_cmd_prefix": "rm(",
     "library": "var_list.r",
     "varRefreshCmd": "cat(var_dic_list()) "
    }
   },
   "types_to_exclude": [
    "module",
    "function",
    "builtin_function_or_method",
    "instance",
    "_Feature"
   ],
   "window_display": false
  }
 },
 "nbformat": 4,
 "nbformat_minor": 4
}
